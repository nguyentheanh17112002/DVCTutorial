{
 "cells": [
  {
   "cell_type": "code",
   "execution_count": 84,
   "metadata": {},
   "outputs": [],
   "source": [
    "import torch\n",
    "import pandas as pd"
   ]
  },
  {
   "cell_type": "code",
   "execution_count": 85,
   "metadata": {},
   "outputs": [
    {
     "data": {
      "text/html": [
       "<div>\n",
       "<style scoped>\n",
       "    .dataframe tbody tr th:only-of-type {\n",
       "        vertical-align: middle;\n",
       "    }\n",
       "\n",
       "    .dataframe tbody tr th {\n",
       "        vertical-align: top;\n",
       "    }\n",
       "\n",
       "    .dataframe thead th {\n",
       "        text-align: right;\n",
       "    }\n",
       "</style>\n",
       "<table border=\"1\" class=\"dataframe\">\n",
       "  <thead>\n",
       "    <tr style=\"text-align: right;\">\n",
       "      <th></th>\n",
       "      <th>user</th>\n",
       "      <th>item</th>\n",
       "      <th>rating</th>\n",
       "      <th>timestamp</th>\n",
       "    </tr>\n",
       "  </thead>\n",
       "  <tbody>\n",
       "    <tr>\n",
       "      <th>0</th>\n",
       "      <td>196</td>\n",
       "      <td>242</td>\n",
       "      <td>3</td>\n",
       "      <td>881250949</td>\n",
       "    </tr>\n",
       "    <tr>\n",
       "      <th>1</th>\n",
       "      <td>186</td>\n",
       "      <td>302</td>\n",
       "      <td>3</td>\n",
       "      <td>891717742</td>\n",
       "    </tr>\n",
       "    <tr>\n",
       "      <th>2</th>\n",
       "      <td>22</td>\n",
       "      <td>377</td>\n",
       "      <td>1</td>\n",
       "      <td>878887116</td>\n",
       "    </tr>\n",
       "    <tr>\n",
       "      <th>3</th>\n",
       "      <td>244</td>\n",
       "      <td>51</td>\n",
       "      <td>2</td>\n",
       "      <td>880606923</td>\n",
       "    </tr>\n",
       "    <tr>\n",
       "      <th>4</th>\n",
       "      <td>166</td>\n",
       "      <td>346</td>\n",
       "      <td>1</td>\n",
       "      <td>886397596</td>\n",
       "    </tr>\n",
       "  </tbody>\n",
       "</table>\n",
       "</div>"
      ],
      "text/plain": [
       "   user  item  rating  timestamp\n",
       "0   196   242       3  881250949\n",
       "1   186   302       3  891717742\n",
       "2    22   377       1  878887116\n",
       "3   244    51       2  880606923\n",
       "4   166   346       1  886397596"
      ]
     },
     "execution_count": 85,
     "metadata": {},
     "output_type": "execute_result"
    }
   ],
   "source": [
    "df = pd.read_csv('../data/u.data', sep='\\t', header=None, names=['user', 'item', 'rating', 'timestamp'], engine='python')\n",
    "df.head()"
   ]
  },
  {
   "cell_type": "code",
   "execution_count": 86,
   "metadata": {},
   "outputs": [
    {
     "name": "stdout",
     "output_type": "stream",
     "text": [
      "<class 'pandas.core.frame.DataFrame'>\n",
      "RangeIndex: 100000 entries, 0 to 99999\n",
      "Data columns (total 4 columns):\n",
      " #   Column     Non-Null Count   Dtype\n",
      "---  ------     --------------   -----\n",
      " 0   user       100000 non-null  int64\n",
      " 1   item       100000 non-null  int64\n",
      " 2   rating     100000 non-null  int64\n",
      " 3   timestamp  100000 non-null  int64\n",
      "dtypes: int64(4)\n",
      "memory usage: 3.1 MB\n"
     ]
    }
   ],
   "source": [
    "df.info()"
   ]
  },
  {
   "cell_type": "code",
   "execution_count": 87,
   "metadata": {},
   "outputs": [
    {
     "data": {
      "text/html": [
       "<div>\n",
       "<style scoped>\n",
       "    .dataframe tbody tr th:only-of-type {\n",
       "        vertical-align: middle;\n",
       "    }\n",
       "\n",
       "    .dataframe tbody tr th {\n",
       "        vertical-align: top;\n",
       "    }\n",
       "\n",
       "    .dataframe thead th {\n",
       "        text-align: right;\n",
       "    }\n",
       "</style>\n",
       "<table border=\"1\" class=\"dataframe\">\n",
       "  <thead>\n",
       "    <tr style=\"text-align: right;\">\n",
       "      <th></th>\n",
       "      <th>user</th>\n",
       "      <th>item</th>\n",
       "      <th>rating</th>\n",
       "      <th>timestamp</th>\n",
       "    </tr>\n",
       "  </thead>\n",
       "  <tbody>\n",
       "    <tr>\n",
       "      <th>count</th>\n",
       "      <td>100000.00000</td>\n",
       "      <td>100000.000000</td>\n",
       "      <td>100000.000000</td>\n",
       "      <td>1.000000e+05</td>\n",
       "    </tr>\n",
       "    <tr>\n",
       "      <th>mean</th>\n",
       "      <td>462.48475</td>\n",
       "      <td>425.530130</td>\n",
       "      <td>3.529860</td>\n",
       "      <td>8.835289e+08</td>\n",
       "    </tr>\n",
       "    <tr>\n",
       "      <th>std</th>\n",
       "      <td>266.61442</td>\n",
       "      <td>330.798356</td>\n",
       "      <td>1.125674</td>\n",
       "      <td>5.343856e+06</td>\n",
       "    </tr>\n",
       "    <tr>\n",
       "      <th>min</th>\n",
       "      <td>1.00000</td>\n",
       "      <td>1.000000</td>\n",
       "      <td>1.000000</td>\n",
       "      <td>8.747247e+08</td>\n",
       "    </tr>\n",
       "    <tr>\n",
       "      <th>25%</th>\n",
       "      <td>254.00000</td>\n",
       "      <td>175.000000</td>\n",
       "      <td>3.000000</td>\n",
       "      <td>8.794487e+08</td>\n",
       "    </tr>\n",
       "    <tr>\n",
       "      <th>50%</th>\n",
       "      <td>447.00000</td>\n",
       "      <td>322.000000</td>\n",
       "      <td>4.000000</td>\n",
       "      <td>8.828269e+08</td>\n",
       "    </tr>\n",
       "    <tr>\n",
       "      <th>75%</th>\n",
       "      <td>682.00000</td>\n",
       "      <td>631.000000</td>\n",
       "      <td>4.000000</td>\n",
       "      <td>8.882600e+08</td>\n",
       "    </tr>\n",
       "    <tr>\n",
       "      <th>max</th>\n",
       "      <td>943.00000</td>\n",
       "      <td>1682.000000</td>\n",
       "      <td>5.000000</td>\n",
       "      <td>8.932866e+08</td>\n",
       "    </tr>\n",
       "  </tbody>\n",
       "</table>\n",
       "</div>"
      ],
      "text/plain": [
       "               user           item         rating     timestamp\n",
       "count  100000.00000  100000.000000  100000.000000  1.000000e+05\n",
       "mean      462.48475     425.530130       3.529860  8.835289e+08\n",
       "std       266.61442     330.798356       1.125674  5.343856e+06\n",
       "min         1.00000       1.000000       1.000000  8.747247e+08\n",
       "25%       254.00000     175.000000       3.000000  8.794487e+08\n",
       "50%       447.00000     322.000000       4.000000  8.828269e+08\n",
       "75%       682.00000     631.000000       4.000000  8.882600e+08\n",
       "max       943.00000    1682.000000       5.000000  8.932866e+08"
      ]
     },
     "execution_count": 87,
     "metadata": {},
     "output_type": "execute_result"
    }
   ],
   "source": [
    "df.describe()"
   ]
  },
  {
   "cell_type": "code",
   "execution_count": 88,
   "metadata": {},
   "outputs": [
    {
     "name": "stdout",
     "output_type": "stream",
     "text": [
      "943\n",
      "1682\n"
     ]
    }
   ],
   "source": [
    "print(len(pd.unique(df['user'])))\n",
    "print(len(pd.unique(df['item'])))"
   ]
  },
  {
   "cell_type": "code",
   "execution_count": 95,
   "metadata": {},
   "outputs": [],
   "source": [
    "test = df.groupby('user')['item'].agg(list)\n"
   ]
  },
  {
   "cell_type": "code",
   "execution_count": 100,
   "metadata": {},
   "outputs": [
    {
     "data": {
      "text/plain": [
       "numpy.ndarray"
      ]
     },
     "execution_count": 100,
     "metadata": {},
     "output_type": "execute_result"
    }
   ],
   "source": [
    "temp = test.values\n",
    "type(temp)"
   ]
  },
  {
   "cell_type": "code",
   "execution_count": 92,
   "metadata": {},
   "outputs": [],
   "source": [
    "iten_frequecy = test['items'].value_counts()"
   ]
  },
  {
   "cell_type": "code",
   "execution_count": 93,
   "metadata": {},
   "outputs": [
    {
     "data": {
      "text/plain": [
       "items\n",
       "[58, 111, 11, 570, 232, 1067, 808, 356, 186, 215, 443, 210, 685, 12, 237, 471, 595, 62, 1011, 549, 181, 412, 184, 655, 96, 373, 127, 1074, 51, 226, 200, 188, 794, 73, 195, 27, 405, 423, 943, 124, 94, 281, 1188, 117, 581, 55, 54, 174, 721, 421, 161, 720, 23, 928, 450, 765, 98, 559, 121, 402, 68, 1028, 76, 122, 485, 756, 42, 318, 64, 284, 182, 218, 79, 508, 187, 609, 1228, 475, 840, 172, 53, 541, 233, 816, 97, 282, 614, 151, 824, 100, 202, 426, 399, 393, 406, 2, 194, 1044, 31, 231, ...]                 1\n",
       "[61, 189, 33, 160, 20, 202, 171, 265, 155, 117, 47, 222, 253, 113, 227, 17, 90, 64, 92, 228, 266, 121, 114, 132, 74, 134, 98, 186, 221, 84, 31, 70, 60, 177, 27, 260, 145, 174, 159, 82, 56, 272, 80, 229, 140, 225, 235, 120, 125, 215, 6, 104, 49, 206, 76, 72, 185, 96, 213, 233, 258, 81, 78, 212, 143, 151, 51, 175, 107, 218, 209, 259, 108, 262, 12, 14, 97, 44, 53, 163, 210, 184, 157, 201, 150, 183, 248, 208, 128, 242, 148, 112, 193, 264, 219, 232, 236, 252, 200, 180, ...]                                 1\n",
       "[292, 251, 50, 314, 297, 290, 312, 281, 13, 280, 303, 308, 307, 257, 316, 315, 301, 313, 279, 299, 298, 19, 277, 282, 111, 258, 295, 242, 283, 276, 1, 305, 14, 287, 291, 293, 294, 310, 309, 306, 25, 273, 10, 311, 269, 255, 284, 274, 237, 300, 100, 127, 285, 289, 304, 272, 278, 288, 286, 275, 302, 296]                                                                                                                                                                                                            1\n",
       "[335, 245, 337, 343, 323, 331, 294, 332, 328, 334, 350, 341, 318, 300, 345, 299, 324, 348, 351, 330, 327, 307, 272, 354, 264, 349, 321, 260, 268, 288, 355, 320, 258, 339, 342, 303, 329, 317, 181, 338, 302, 322, 352, 271, 333, 344, 326, 319, 325, 347, 336, 353, 340, 346]                                                                                                                                                                                                                                            1\n",
       "[264, 303, 361, 357, 260, 356, 294, 288, 50, 354, 271, 300, 328, 258, 210, 329, 11, 327, 324, 359, 362, 358, 360, 301]                                                                                                                                                                                                                                                                                                                                                                                                    1\n",
       "                                                                                                                                                                                                                                                                                                                                                                                                                                                                                                                         ..\n",
       "[4, 435, 655, 153, 313, 310, 692, 382, 201, 258, 319, 288, 887, 211, 210, 268, 325, 202, 8, 294]                                                                                                                                                                                                                                                                                                                                                                                                                          1\n",
       "[288, 208, 11, 176, 118, 186, 172, 678, 194, 405, 1, 69, 742, 597, 931, 95, 121, 252, 568, 144, 98, 87, 498, 588, 866, 423, 181, 94, 763, 934, 210, 174, 820, 357, 151, 148, 378, 274, 496, 143, 633, 323, 22, 50, 243, 82, 204, 15]                                                                                                                                                                                                                                                                                      1\n",
       "[558, 370, 222, 440, 129, 447, 164, 324, 948, 103, 98, 299, 457, 596, 839, 184, 590, 298, 928, 742, 445, 295, 982, 218, 439, 678, 424, 56, 106, 288, 995, 670, 219, 591, 569, 217, 234, 974, 292, 774, 773, 325, 820, 844, 121, 758, 860, 565, 595, 687, 118, 875, 441, 834, 859, 665, 717, 985, 977, 668, 671, 326, 696, 245, 930, 100, 319, 328, 688, 473, 242, 448, 294, 816, 291, 258, 979, 148, 396, 741, 327, 452, 931, 320, 706, 551, 123, 767, 453, 263, 17, 563, 567, 872, 680, 201, 547, 322, 878, 300, ...]    1\n",
       "[377, 376, 128, 80, 241, 258, 510, 79, 791, 511, 227, 433, 173, 687, 456, 399, 186, 96, 294, 780, 29, 117, 683, 403, 999, 502, 435, 121, 176, 222, 550, 948, 393, 110, 648, 118, 692, 386, 226, 238, 554, 407, 878, 455, 358, 208, 172, 230, 997, 1001, 153, 154, 194, 195, 411, 168, 204, 871, 651, 665, 187, 53, 515, 85, 996, 451, 840, 932, 167, 862, 105, 431, 231, 367, 449, 202, 216, 988, 184, 1003, 211, 94, 175, 636, 24, 684, 229, 546, 163, 109, 523, 21, 1002, 201, 568, 181, 17, 1000, 566, 144, ...]       1\n",
       "[385, 323, 196, 258, 463, 381, 172, 1006, 170, 404, 213, 528, 183, 215, 88, 90, 511, 516, 83, 483, 228, 421, 28, 177, 705, 188, 99, 315, 257, 32, 419, 662, 405, 504, 380, 229, 549, 1005, 427, 739, 747, 13, 209, 71, 191, 98, 518, 143, 133, 222, 219, 238, 546, 70, 512, 269, 189, 1, 527, 710, 50, 357, 109, 95, 408, 629, 175, 597, 202, 294, 14, 414, 124, 132, 275, 961, 588, 530, 100, 652, 283, 856, 433, 82, 780, 418, 7, 386, 203, 224, 151, 161, 472, 185, 155, 230, 79, 432, 91, 145, ...]                   1\n",
       "Name: count, Length: 943, dtype: int64"
      ]
     },
     "execution_count": 93,
     "metadata": {},
     "output_type": "execute_result"
    }
   ],
   "source": [
    "iten_frequecy"
   ]
  },
  {
   "cell_type": "code",
   "execution_count": null,
   "metadata": {},
   "outputs": [
    {
     "name": "stdout",
     "output_type": "stream",
     "text": [
      "                lists\n",
      "0  [0, 1, 3, 4, 2, 4]\n",
      "1  [2, 3, 4, 1, 9, 3]\n",
      "2          [10, 2, 4]\n"
     ]
    }
   ],
   "source": [
    "import pandas as pd\n",
    "\n",
    "# Tạo danh sách các list\n",
    "lists = [[0, 1, 3, 4, 2, 4], [2, 3, 4, 1, 9, 3], [10, 2, 4]]\n",
    "\n",
    "# Tạo DataFrame từ các list\n",
    "df = pd.DataFrame({'lists': lists})\n",
    "\n",
    "print(df)"
   ]
  },
  {
   "cell_type": "code",
   "execution_count": null,
   "metadata": {},
   "outputs": [
    {
     "data": {
      "text/plain": [
       "lists\n",
       "[0, 1, 3, 4, 2, 4]    1\n",
       "[2, 3, 4, 1, 9, 3]    1\n",
       "[10, 2, 4]            1\n",
       "Name: count, dtype: int64"
      ]
     },
     "execution_count": 74,
     "metadata": {},
     "output_type": "execute_result"
    }
   ],
   "source": [
    "df['lists'].value_counts()"
   ]
  },
  {
   "cell_type": "code",
   "execution_count": null,
   "metadata": {},
   "outputs": [],
   "source": []
  }
 ],
 "metadata": {
  "kernelspec": {
   "display_name": "workingEnv",
   "language": "python",
   "name": "python3"
  },
  "language_info": {
   "codemirror_mode": {
    "name": "ipython",
    "version": 3
   },
   "file_extension": ".py",
   "mimetype": "text/x-python",
   "name": "python",
   "nbconvert_exporter": "python",
   "pygments_lexer": "ipython3",
   "version": "3.10.14"
  }
 },
 "nbformat": 4,
 "nbformat_minor": 2
}
